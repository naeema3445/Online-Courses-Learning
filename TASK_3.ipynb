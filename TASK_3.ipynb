{
  "nbformat": 4,
  "nbformat_minor": 0,
  "metadata": {
    "colab": {
      "name": "TASK 3.ipynb",
      "provenance": [],
      "include_colab_link": true
    },
    "kernelspec": {
      "name": "python3",
      "display_name": "Python 3"
    },
    "language_info": {
      "name": "python"
    }
  },
  "cells": [
    {
      "cell_type": "markdown",
      "metadata": {
        "id": "view-in-github",
        "colab_type": "text"
      },
      "source": [
        "<a href=\"https://colab.research.google.com/github/naeema3445/Online-Courses-Learning/blob/master/TASK_3.ipynb\" target=\"_parent\"><img src=\"https://colab.research.google.com/assets/colab-badge.svg\" alt=\"Open In Colab\"/></a>"
      ]
    },
    {
      "cell_type": "markdown",
      "metadata": {
        "id": "z20IIB0eUQMN"
      },
      "source": [
        "1 - Write a program which takes a number as input from the user and check whether the number is odd or even.If odd print the number is odd if not print it is even."
      ]
    },
    {
      "cell_type": "code",
      "metadata": {
        "id": "dVgGJ-wTVRit",
        "colab": {
          "base_uri": "https://localhost:8080/"
        },
        "outputId": "c93bf2b5-899d-4e9f-98cd-7e93e8006cad"
      },
      "source": [
        "#please enter your answer below this line\n",
        "num=int(input(\"Enter a number\"))\n",
        "if(num % 2) == 1:\n",
        "    print(\"the number is odd\")\n",
        "else:\n",
        "    print(\"the number is even\")"
      ],
      "execution_count": 12,
      "outputs": [
        {
          "output_type": "stream",
          "text": [
            "Enter a number13\n",
            "the number is odd\n"
          ],
          "name": "stdout"
        }
      ]
    },
    {
      "cell_type": "markdown",
      "metadata": {
        "id": "7778XD8PVblj"
      },
      "source": [
        "2 -Write a program to find the largest among three numbers and print the largest number."
      ]
    },
    {
      "cell_type": "code",
      "metadata": {
        "id": "m0tUOkOFWR-d",
        "colab": {
          "base_uri": "https://localhost:8080/"
        },
        "outputId": "0dc0a654-f54c-4665-8b2d-0b239a18dc54"
      },
      "source": [
        "#please enter your answer below this line\n",
        "num1=int(input(\"Enter first number\"))\n",
        "num2=int(input(\"Enter second number\"))\n",
        "num3=int(input(\"Enter third number\"))\n",
        "if (num1 > num2 and num1 > num3):\n",
        "    print(\"num1 is greater among the other two\")\n",
        "elif (num2 > num1 and num2 > num3):\n",
        "    print(\"num2 is greater among the other two\")\n",
        "else:\n",
        "    print(\"num3 is greater among the other two\")"
      ],
      "execution_count": 37,
      "outputs": [
        {
          "output_type": "stream",
          "text": [
            "Enter first number13\n",
            "Enter second number56\n",
            "Enter third number98\n",
            "num3 is greater among the other two\n"
          ],
          "name": "stdout"
        }
      ]
    },
    {
      "cell_type": "markdown",
      "metadata": {
        "id": "Jg2Ns4OQWaJy"
      },
      "source": [
        "3 -Write a function to prompt for a score between 0.0 and 1.0.\n",
        "\n",
        "    If the score is out of range, print an error.\n",
        "    If the score is between 0.0 and 1.0, print a grade using the following table:\n",
        "    Score Grade\n",
        "             Score\tGrade\n",
        "            >= 0.9\tA\n",
        "            >= 0.8\tB\n",
        "            >= 0.7\tC\n",
        "            >= 0.6\tD\n",
        "             < 0.6\tF\n",
        "If the user enters a value out of range, print a suitable error message and exit. For the test, enter a score of 0.85."
      ]
    },
    {
      "cell_type": "code",
      "metadata": {
        "id": "6DLbGe6XXZPx",
        "outputId": "1ff52daf-2bd9-469e-f5b2-66de09720862",
        "colab": {
          "base_uri": "https://localhost:8080/"
        }
      },
      "source": [
        "#please enter your answer below this line\n",
        "score=input(\"Enter the score obtained:\")\n",
        "s = float(score)\n",
        "x = 'Error'\n",
        "if s >= 0.9 and s <= 1.0:\n",
        "    print(\"A\")\n",
        "elif s >= 0.8 and s < 0.9:\n",
        "    print(\"B\")\n",
        "elif s >= 0.7 and s < 0.8:\n",
        "    print(\"C\")\n",
        "elif s >= 0.6 and s < 0.7:\n",
        "    print(\"D\")\n",
        "elif s < 0.6 and s > 0.0:\n",
        "    print(\"F\")\n",
        "else:\n",
        "    print(\"score is out of range\")"
      ],
      "execution_count": 54,
      "outputs": [
        {
          "output_type": "stream",
          "text": [
            "Enter the score obtained:0.85\n",
            "B\n"
          ],
          "name": "stdout"
        }
      ]
    },
    {
      "cell_type": "markdown",
      "metadata": {
        "id": "-o0scDq7WkVT"
      },
      "source": [
        ""
      ]
    }
  ]
}