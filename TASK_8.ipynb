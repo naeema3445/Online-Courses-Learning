{
  "nbformat": 4,
  "nbformat_minor": 0,
  "metadata": {
    "colab": {
      "name": "TASK 8.ipynb",
      "provenance": [],
      "include_colab_link": true
    },
    "kernelspec": {
      "name": "python3",
      "display_name": "Python 3"
    },
    "language_info": {
      "name": "python"
    }
  },
  "cells": [
    {
      "cell_type": "markdown",
      "metadata": {
        "id": "view-in-github",
        "colab_type": "text"
      },
      "source": [
        "<a href=\"https://colab.research.google.com/github/naeema3445/Online-Courses-Learning/blob/master/TASK_8.ipynb\" target=\"_parent\"><img src=\"https://colab.research.google.com/assets/colab-badge.svg\" alt=\"Open In Colab\"/></a>"
      ]
    },
    {
      "cell_type": "markdown",
      "metadata": {
        "id": "slsGswYbJSo7"
      },
      "source": [
        "1. Generate a 3 x 3 matrix using random module."
      ]
    },
    {
      "cell_type": "code",
      "metadata": {
        "id": "GGRQSYyNJW9t",
        "colab": {
          "base_uri": "https://localhost:8080/"
        },
        "outputId": "af359d2e-9cc2-45d6-dbd0-32959c3d7e90"
      },
      "source": [
        "#please provide your answer below this line.\n",
        "import numpy as np\n",
        "X = np.random.rand(3,3)\n",
        "print(X)"
      ],
      "execution_count": 1,
      "outputs": [
        {
          "output_type": "stream",
          "text": [
            "[[0.71716802 0.26107724 0.42535891]\n",
            " [0.97716159 0.79295921 0.67584725]\n",
            " [0.72935643 0.5476387  0.90184004]]\n"
          ],
          "name": "stdout"
        }
      ]
    },
    {
      "cell_type": "markdown",
      "metadata": {
        "id": "4OB9KFX6JfYA"
      },
      "source": [
        "2. Generate two 4 x 4 matrix using numpy and \n",
        "\n",
        " a) Reshape it to 2 x 8matrix and vertically stack it.\n",
        "\n",
        " b) Reshape it to 2 x 8 matrix and horizontally stack it."
      ]
    },
    {
      "cell_type": "code",
      "metadata": {
        "id": "VoIqYeNWJ4H_",
        "colab": {
          "base_uri": "https://localhost:8080/"
        },
        "outputId": "fdcbabc9-1400-4086-d8b4-5428ca07b99d"
      },
      "source": [
        "#please provide your answer below this line.\n",
        "import numpy as np\n",
        "x = np.arange(3, 19).reshape(4,4)\n",
        "print(x)\n",
        "y = np.arange(2,18).reshape(4,4)\n",
        "print(y)\n",
        "x = np.arange(3,19).reshape(2,8)\n",
        "y = np.arange(2,18).reshape(2,8)\n",
        "u = np.vstack((x,y))\n",
        "print(u)\n",
        "z = np.hstack((x,y))\n",
        "print(z)"
      ],
      "execution_count": 2,
      "outputs": [
        {
          "output_type": "stream",
          "text": [
            "[[ 3  4  5  6]\n",
            " [ 7  8  9 10]\n",
            " [11 12 13 14]\n",
            " [15 16 17 18]]\n",
            "[[ 2  3  4  5]\n",
            " [ 6  7  8  9]\n",
            " [10 11 12 13]\n",
            " [14 15 16 17]]\n",
            "[[ 3  4  5  6  7  8  9 10]\n",
            " [11 12 13 14 15 16 17 18]\n",
            " [ 2  3  4  5  6  7  8  9]\n",
            " [10 11 12 13 14 15 16 17]]\n",
            "[[ 3  4  5  6  7  8  9 10  2  3  4  5  6  7  8  9]\n",
            " [11 12 13 14 15 16 17 18 10 11 12 13 14 15 16 17]]\n"
          ],
          "name": "stdout"
        }
      ]
    }
  ]
}